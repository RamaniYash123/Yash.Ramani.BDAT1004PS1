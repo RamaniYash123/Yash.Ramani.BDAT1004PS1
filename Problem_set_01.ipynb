{
 "cells": [
  {
   "cell_type": "markdown",
   "id": "f4b1fbe0",
   "metadata": {},
   "source": [
    "## Q1:What data type is each of the following (evaluate where necessary)?\n",
    "5\n",
    "5.0\n",
    "5 > 1\n",
    "'5'\n",
    "5 * 2\n",
    "'5' * 2\n",
    "'5' + '2'\n",
    "5 / 2\n",
    "5 % 2\n",
    "{5, 2, 1}\n",
    "5 == 3\n",
    "Pi (the number)"
   ]
  },
  {
   "cell_type": "code",
   "execution_count": 2,
   "id": "4817b90e",
   "metadata": {},
   "outputs": [
    {
     "name": "stdout",
     "output_type": "stream",
     "text": [
      "5: <class 'int'>\n",
      "\n",
      "5.0: <class 'float'>\n",
      "\n",
      "5 > 1: <class 'bool'>\n",
      "\n",
      "'5': <class 'str'>\n",
      "\n",
      "5 * 2: <class 'int'>\n",
      "\n",
      "'5' * 2: <class 'str'>\n",
      "\n",
      "'5' + '2': <class 'str'>\n",
      "\n",
      "5 / 2: <class 'float'>\n",
      "\n",
      "5 % 2: <class 'int'>\n",
      "\n",
      "{5, 2, 1}: <class 'set'>\n",
      "\n",
      "5 == 3: <class 'bool'>\n",
      "\n",
      "Pi (the number): <class 'float'>\n"
     ]
    }
   ],
   "source": [
    "import math\n",
    "print(\"5:\", type(5)) \n",
    "print(\"\\n5.0:\", type(5.0))  \n",
    "print(\"\\n5 > 1:\", type(5 > 1))  \n",
    "print(\"\\n'5':\", type('5')) \n",
    "print(\"\\n5 * 2:\", type(5 * 2)) \n",
    "print(\"\\n'5' * 2:\", type('5' * 2))  \n",
    "print(\"\\n'5' + '2':\", type('5' + '2')) \n",
    "print(\"\\n5 / 2:\", type(5 / 2))  \n",
    "print(\"\\n5 % 2:\", type(5 % 2))  \n",
    "print(\"\\n{5, 2, 1}:\", type({5, 2, 1})) \n",
    "print(\"\\n5 == 3:\", type(5 == 3))  \n",
    "print(\"\\nPi (the number):\", type(math.pi))"
   ]
  },
  {
   "cell_type": "markdown",
   "id": "7e2652ed",
   "metadata": {},
   "source": [
    "## Q2:Write (and evaluate) python expressions that answer these questions:"
   ]
  },
  {
   "cell_type": "markdown",
   "id": "394aeda2",
   "metadata": {},
   "source": [
    "### a. How many letters are there in 'Supercalifragilisticexpialidocious'?"
   ]
  },
  {
   "cell_type": "code",
   "execution_count": 11,
   "id": "3a77202f",
   "metadata": {},
   "outputs": [
    {
     "name": "stdout",
     "output_type": "stream",
     "text": [
      "Answer: 34\n"
     ]
    }
   ],
   "source": [
    "no_of_letters = len(\"Supercalifragilisticexpialidocious\")\n",
    "print(f\"Answer: {no_of_letters}\")"
   ]
  },
  {
   "cell_type": "markdown",
   "id": "d2b32758",
   "metadata": {},
   "source": [
    "### b. Does 'Supercalifragilisticexpialidocious' contain 'ice' as a substring?"
   ]
  },
  {
   "cell_type": "code",
   "execution_count": 12,
   "id": "171897cf",
   "metadata": {},
   "outputs": [
    {
     "name": "stdout",
     "output_type": "stream",
     "text": [
      "Answer: True\n"
     ]
    }
   ],
   "source": [
    "has_ice = \"ice\" in \"Supercalifragilisticexpialidocious\"\n",
    "print(f\"Answer: {has_ice}\")"
   ]
  },
  {
   "cell_type": "markdown",
   "id": "8fda1ffc",
   "metadata": {},
   "source": [
    "### c. Which of the following words is the longest:Supercalifragilisticexpialidocious, Honorificabilitudinitatibus, or Bababadalgharaghtakamminarronnkonn?"
   ]
  },
  {
   "cell_type": "code",
   "execution_count": 13,
   "id": "f3441ba1",
   "metadata": {},
   "outputs": [
    {
     "name": "stdout",
     "output_type": "stream",
     "text": [
      "Answer: Supercalifragilisticexpialidocious\n"
     ]
    }
   ],
   "source": [
    "words = [\n",
    "    \"Supercalifragilisticexpialidocious\",\n",
    "    \"Honorificabilitudinitatibus\",\n",
    "    \"Bababadalgharaghtakamminarronnkonn\"\n",
    "]\n",
    "\n",
    "\n",
    "longest = \"\"\n",
    "for word in words:\n",
    "    if len(word) > len(longest):\n",
    "        longest = word\n",
    "\n",
    "print(f\"Answer: {longest}\")"
   ]
  },
  {
   "cell_type": "markdown",
   "id": "9d561784",
   "metadata": {},
   "source": [
    "### d. Which composer comes first in the dictionary: 'Berlioz', 'Borodin', 'Brian','Bartok', 'Bellini', 'Buxtehude', 'Bernstein'. Which one comes last?"
   ]
  },
  {
   "cell_type": "code",
   "execution_count": 14,
   "id": "3eb34388",
   "metadata": {},
   "outputs": [
    {
     "name": "stdout",
     "output_type": "stream",
     "text": [
      "d. First composer: Bartok, Last composer: Buxtehude\n"
     ]
    }
   ],
   "source": [
    "composers = [\"Berlioz\", \"Borodin\", \"Brian\", \"Bartok\", \"Bellini\", \"Buxtehude\", \"Bernstein\"]\n",
    "first_composer = min(composers)\n",
    "last_composer = max(composers)\n",
    "print(f\"d. First composer: {first_composer}, Last composer: {last_composer}\")"
   ]
  },
  {
   "cell_type": "markdown",
   "id": "da5d603b",
   "metadata": {},
   "source": [
    "## Q3:Implement function triangleArea(a,b,c) that takes as input the lengths of the 3 sides of a triangle and returns the area of the triangle. By Heron's formula, the area of a triangle with side lengths a, b, and c iss(s - a)(s - b)(s - c) , wheres = (a + b + c)/2."
   ]
  },
  {
   "cell_type": "code",
   "execution_count": 25,
   "id": "5baad426",
   "metadata": {},
   "outputs": [],
   "source": [
    "import math\n",
    "\n",
    "def triangleArea(a, b, c):\n",
    "  s = (a + b + c) / 2\n",
    "\n",
    "  area = math.sqrt(s * (s - a) * (s - b) * (s - c))\n",
    "  return area"
   ]
  },
  {
   "cell_type": "markdown",
   "id": "97e5ad8e",
   "metadata": {},
   "source": [
    "### example "
   ]
  },
  {
   "cell_type": "code",
   "execution_count": 26,
   "id": "0916e08b",
   "metadata": {},
   "outputs": [
    {
     "data": {
      "text/plain": [
       "1.7320508075688772"
      ]
     },
     "execution_count": 26,
     "metadata": {},
     "output_type": "execute_result"
    }
   ],
   "source": [
    "triangleArea(2,2,2)"
   ]
  },
  {
   "cell_type": "markdown",
   "id": "00a91bf2",
   "metadata": {},
   "source": [
    "## Q4:Write a program in python to separate odd and even integers in separate arrays. Go to the editor"
   ]
  },
  {
   "cell_type": "code",
   "execution_count": 37,
   "id": "6b9cd1d3",
   "metadata": {},
   "outputs": [
    {
     "name": "stdout",
     "output_type": "stream",
     "text": [
      "Input the number of elements to be stored in the array: 5\n",
      "Input element - 0: 25\n",
      "Input element - 1: 47\n",
      "Input element - 2: 42\n",
      "Input element - 3: 56\n",
      "Input element - 4: 32\n",
      "The Even elements are:\n",
      "42 56 32\n",
      "\n",
      "The Odd elements are :\n",
      "25 47\n"
     ]
    }
   ],
   "source": [
    "def separate_number(data):\n",
    "    evens = []\n",
    "    odds = []\n",
    "    \n",
    "    for i in data:\n",
    "     if i % 2 == 0:\n",
    "       evens.append(i)\n",
    "     else:\n",
    "       odds.append(i)\n",
    "\n",
    "    return evens, odds\n",
    "\n",
    "input_count = int(input(\"Input the number of elements to be stored in the array: \"))\n",
    "\n",
    "data=[]\n",
    "\n",
    "for i in range(input_count):\n",
    "  d= int(input(f\"Input element - {i}: \"))\n",
    "  data.append(d)\n",
    "    \n",
    "even_num,odd_num=separate_number(data)\n",
    "\n",
    "print(\"The Even elements are:\")\n",
    "print(*even_num)  # Print elements without brackets\n",
    "\n",
    "print(\"\\nThe Odd elements are :\")\n",
    "print(*odd_num)"
   ]
  },
  {
   "cell_type": "markdown",
   "id": "9e8c97a8",
   "metadata": {},
   "source": [
    "## Q5:"
   ]
  },
  {
   "cell_type": "markdown",
   "id": "3c13983f",
   "metadata": {},
   "source": [
    "### a. Write a function inside(x,y,x1,y1,x2,y2) that returns True or False depending on whether the point (x,y) lies in the rectangle with lower left corner (x1,y1) and upper right corner (x2,y2)."
   ]
  },
  {
   "cell_type": "code",
   "execution_count": 38,
   "id": "aabe459b",
   "metadata": {},
   "outputs": [],
   "source": [
    "def inside(x, y, x1, y1, x2, y2):\n",
    "      return (x1 <= x <= x2) and (y1 <= y <= y2)"
   ]
  },
  {
   "cell_type": "markdown",
   "id": "b90771f8",
   "metadata": {},
   "source": [
    "### Example"
   ]
  },
  {
   "cell_type": "code",
   "execution_count": 39,
   "id": "7cf5b681",
   "metadata": {},
   "outputs": [
    {
     "name": "stdout",
     "output_type": "stream",
     "text": [
      "True\n",
      "False\n"
     ]
    }
   ],
   "source": [
    "print(inside(1, 1, 0, 0, 2, 3))  \n",
    "print(inside(-1, -1, 0, 0, 2, 3))"
   ]
  },
  {
   "cell_type": "markdown",
   "id": "b50dc42d",
   "metadata": {},
   "source": [
    "### b.Use function inside() from part a. to write an expression that tests whether the point (1,1) lies in both of the following rectangles: one with lower left corner (0.3, 0.5) and upper right corner (1.1, 0.7) and the other with lower left corner (0.5, 0.2) and upper right corner (1.1, 2)."
   ]
  },
  {
   "cell_type": "code",
   "execution_count": 40,
   "id": "2807a639",
   "metadata": {},
   "outputs": [
    {
     "name": "stdout",
     "output_type": "stream",
     "text": [
      "False\n",
      "True\n"
     ]
    }
   ],
   "source": [
    "print(inside(1, 1, 0.3, 0.5, 1.1, 0.7))  \n",
    "print(inside(1, 1, 0.5, 0.2, 1.1, 2))"
   ]
  },
  {
   "cell_type": "markdown",
   "id": "382a345c",
   "metadata": {},
   "source": [
    "## Q6:You can turn a word into pig-Latin using the following two rules (simplified): \n",
    "* ### If the word starts with a consonant, move that letter to the end and append 'ay'. For example, 'happy' becomes 'appyhay' and 'pencil' becomes 'encilpay'.\n",
    "* ###  If the word starts with a vowel, simply append 'way' to the end of the word. For example, 'enter' becomes 'enterway' and 'other' becomes 'otherway'.\n",
    "### For our purposes, there are 5 vowels: a, e, i, o, u (so we count y as a consonant). Write a function pig() that takes a word (i.e., a string) as input and returns its pig- Latin form. Your function should still work if the input word contains upper case characters. Your output should always be lower case however."
   ]
  },
  {
   "cell_type": "code",
   "execution_count": 41,
   "id": "b1fe608b",
   "metadata": {},
   "outputs": [],
   "source": [
    "def pig(word):\n",
    "    word = word.lower()\n",
    "    vowels = ['a', 'e', 'i', 'o', 'u']\n",
    "    if word[0] in vowels:\n",
    "        return word + 'way'\n",
    "    else:\n",
    "        return word[1:] + word[0] + 'ay'"
   ]
  },
  {
   "cell_type": "markdown",
   "id": "ee727129",
   "metadata": {},
   "source": [
    "### exmple"
   ]
  },
  {
   "cell_type": "code",
   "execution_count": 43,
   "id": "6dd40b64",
   "metadata": {},
   "outputs": [
    {
     "name": "stdout",
     "output_type": "stream",
     "text": [
      "appyhay\n",
      "enterway\n"
     ]
    }
   ],
   "source": [
    "print(pig('happy'))\n",
    "print(pig('enter'))"
   ]
  },
  {
   "cell_type": "markdown",
   "id": "49346a12",
   "metadata": {},
   "source": [
    "## Q7:File bloodtype1.txt records blood-types of patients (A, B, AB, O or OO) at a clinic. Write a function bldcount() that reads the file with name name and reports (i.e., prints) how many patients there are in each bloodtype"
   ]
  },
  {
   "cell_type": "code",
   "execution_count": 71,
   "id": "85d7deea",
   "metadata": {},
   "outputs": [],
   "source": [
    "def bldcount(file_name):\n",
    "    types = {\"A\": 0, \"B\": 0, \"AB\": 0, \"O\": 0}\n",
    "    with open(file_name, 'r') as file:\n",
    "        data = file.readline().strip()\n",
    "        \n",
    "        blood_types = data.split()\n",
    "\n",
    "        for type_of_blood in blood_types:\n",
    "            type_of_blood = type_of_blood.upper()\n",
    "\n",
    "            if type_of_blood in types:\n",
    "                types[type_of_blood] += 1\n",
    "            else:\n",
    "                print(\"Warning: Invalid blood type\")\n",
    "        return types    "
   ]
  },
  {
   "cell_type": "code",
   "execution_count": 72,
   "id": "50e6d8e8",
   "metadata": {},
   "outputs": [
    {
     "name": "stdout",
     "output_type": "stream",
     "text": [
      "There are 15 patients with blood type A.\n",
      "There are 1 patients with blood type B.\n",
      "There are 13 patients with blood type AB.\n",
      "There are 15 patients with blood type O.\n"
     ]
    }
   ],
   "source": [
    "\n",
    "file_name='C:/Users/Administrator/Downloads/bloodtype1.txt'\n",
    "\n",
    "blood_type_counts = bldcount(file_name)\n",
    "\n",
    "for blood_type, count in blood_type_counts.items():\n",
    "        print(f\"There are {count} patients with blood type {blood_type}.\")"
   ]
  },
  {
   "cell_type": "markdown",
   "id": "a872be0d",
   "metadata": {},
   "source": [
    "## Q8:Write a function curconv() that takes as input:\n",
    "### 1. a currency represented using a string (e.g., 'JPY' for the Japanese Yen or 'EUR' for the Euro)\n",
    "### 2. an amount and then converts and returns the amount in US dollars.\n"
   ]
  },
  {
   "cell_type": "code",
   "execution_count": 87,
   "id": "ba788121",
   "metadata": {},
   "outputs": [],
   "source": [
    "def curconv(currency, amount,filename):\n",
    "    conversion_rates = {}\n",
    "    with open(filename, 'r') as file:\n",
    "        for line in file:\n",
    "            \n",
    "            code, rate, name = line.strip().split('\\t')\n",
    "            \n",
    "            conversion_rates[code] = float(rate)\n",
    "        \n",
    "            if currency.upper() in conversion_rates:\n",
    "                return amount * conversion_rates[currency.upper()]\n",
    "            else:\n",
    "                print(f\"Error: Currency '{currency}' not found in the conversion rates.\")\n",
    "                return None"
   ]
  },
  {
   "cell_type": "code",
   "execution_count": 90,
   "id": "5ee206ec",
   "metadata": {},
   "outputs": [
    {
     "name": "stdout",
     "output_type": "stream",
     "text": [
      "155.177355\n"
     ]
    }
   ],
   "source": [
    "file_name='C:/Users/Administrator/Downloads/currencies.txt'\n",
    "print(curconv(\"AUD\",150,file_name))"
   ]
  },
  {
   "cell_type": "markdown",
   "id": "d5acbe5b",
   "metadata": {},
   "source": [
    "## Q9:Each of the following will cause an exception (an error). Identify what type of exception each will cause."
   ]
  },
  {
   "cell_type": "markdown",
   "id": "239a250a",
   "metadata": {},
   "source": [
    "### Trying to add incompatible variables, as in adding 6 + ‘a’"
   ]
  },
  {
   "cell_type": "code",
   "execution_count": 107,
   "id": "b72e20bd",
   "metadata": {},
   "outputs": [
    {
     "name": "stdout",
     "output_type": "stream",
     "text": [
      "Error: unsupported operand type(s) for +: 'int' and 'str'\n"
     ]
    }
   ],
   "source": [
    "try:\n",
    "    answer = 6 + 'a'\n",
    "except Exception  as e:\n",
    "    print(\"Error:\", e)"
   ]
  },
  {
   "cell_type": "markdown",
   "id": "7b029d10",
   "metadata": {},
   "source": [
    "### Referring to the 12th item of a list that has only 10 items"
   ]
  },
  {
   "cell_type": "code",
   "execution_count": 108,
   "id": "40ce6ba4",
   "metadata": {},
   "outputs": [
    {
     "name": "stdout",
     "output_type": "stream",
     "text": [
      "Error: list index out of range\n"
     ]
    }
   ],
   "source": [
    "try:\n",
    "    item_list = [1, 2, 3, 4, 5,6,7,8,9,10]\n",
    "    item = item_list[12]\n",
    "except Exception  as e:\n",
    "    print(\"Error:\", e)"
   ]
  },
  {
   "cell_type": "markdown",
   "id": "8e7141c5",
   "metadata": {},
   "source": [
    "### Using a value that is out of range for a function’s input, such as calling math.sqrt(-1.0)"
   ]
  },
  {
   "cell_type": "code",
   "execution_count": 109,
   "id": "873e9825",
   "metadata": {},
   "outputs": [
    {
     "name": "stdout",
     "output_type": "stream",
     "text": [
      "Error: math domain error\n"
     ]
    }
   ],
   "source": [
    "import math\n",
    "\n",
    "try:\n",
    "    ans = math.sqrt(-1.0)\n",
    "except Exception  as e:\n",
    "    print(\"Error:\", e)"
   ]
  },
  {
   "cell_type": "markdown",
   "id": "23e51aa7",
   "metadata": {},
   "source": [
    "### Using an undeclared variable, such as print(x) when x has not been defined"
   ]
  },
  {
   "cell_type": "code",
   "execution_count": 110,
   "id": "88678222",
   "metadata": {},
   "outputs": [
    {
     "name": "stdout",
     "output_type": "stream",
     "text": [
      "Error: name 'x' is not defined\n"
     ]
    }
   ],
   "source": [
    "try:\n",
    "    print(x)\n",
    "except Exception  as e:\n",
    "    print(\"Error:\", e)"
   ]
  },
  {
   "cell_type": "markdown",
   "id": "129ee7d6",
   "metadata": {},
   "source": [
    "### Trying to open a file that does not exist, such as mistyping the file name or looking in the wrong directory."
   ]
  },
  {
   "cell_type": "code",
   "execution_count": 111,
   "id": "8741a6f2",
   "metadata": {},
   "outputs": [
    {
     "name": "stdout",
     "output_type": "stream",
     "text": [
      "Error: [Errno 2] No such file or directory: 'worng.txt'\n"
     ]
    }
   ],
   "source": [
    "try:\n",
    "    with open(\"worng.txt\", \"r\") as file:\n",
    "        data = file.read()\n",
    "except Exception  as e:\n",
    "    print(\"Error:\", e)"
   ]
  },
  {
   "cell_type": "markdown",
   "id": "0e1452cf",
   "metadata": {},
   "source": [
    "## Q10:Write a function called frequencies() that takes a string as its only parameter, and returns a list of integers, showing the number of times each character appears in the text. Your function may ignore any characters that are not in letters"
   ]
  },
  {
   "cell_type": "code",
   "execution_count": 115,
   "id": "7454e940",
   "metadata": {},
   "outputs": [],
   "source": [
    "def frequencies(text):\n",
    "    chars = {}\n",
    "\n",
    "    for char in text:\n",
    "        if char.isalpha():\n",
    "            chars[char] = chars.get(char, 0) + 1\n",
    "    \n",
    "    ocurrance_list = [chars.get(chr(i), 0) for i in range(97, 123)]\n",
    "\n",
    "    return ocurrance_list"
   ]
  },
  {
   "cell_type": "code",
   "execution_count": 117,
   "id": "470765ca",
   "metadata": {},
   "outputs": [
    {
     "name": "stdout",
     "output_type": "stream",
     "text": [
      "[1, 1, 1, 3, 5, 1, 1, 2, 1, 0, 1, 0, 1, 2, 4, 0, 1, 2, 0, 2, 1, 0, 1, 1, 0, 0]\n"
     ]
    }
   ],
   "source": [
    "text = \"The quick red fox got bored and went home.\"\n",
    "print(frequencies(text))"
   ]
  }
 ],
 "metadata": {
  "kernelspec": {
   "display_name": "Python 3 (ipykernel)",
   "language": "python",
   "name": "python3"
  },
  "language_info": {
   "codemirror_mode": {
    "name": "ipython",
    "version": 3
   },
   "file_extension": ".py",
   "mimetype": "text/x-python",
   "name": "python",
   "nbconvert_exporter": "python",
   "pygments_lexer": "ipython3",
   "version": "3.10.9"
  }
 },
 "nbformat": 4,
 "nbformat_minor": 5
}
